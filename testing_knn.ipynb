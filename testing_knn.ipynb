{
 "cells": [
  {
   "cell_type": "code",
   "execution_count": 4,
   "id": "7d98a45c",
   "metadata": {},
   "outputs": [],
   "source": [
    "from sklearn.neighbors import KNeighborsClassifier\n",
    "import numpy as np"
   ]
  },
  {
   "cell_type": "code",
   "execution_count": 2,
   "id": "73d2ae54",
   "metadata": {},
   "outputs": [],
   "source": [
    "def garbo_distance(x, y):\n",
    "    \"\"\"\n",
    "    Custom distance function for KNN.\n",
    "    \"\"\"\n",
    "    return 0"
   ]
  },
  {
   "cell_type": "code",
   "execution_count": 3,
   "id": "82252218",
   "metadata": {},
   "outputs": [
    {
     "name": "stdout",
     "output_type": "stream",
     "text": [
      "[0 0]\n"
     ]
    }
   ],
   "source": [
    "X = [[1,1],[0,0],[1,1],[1,1],[1,1]]\n",
    "y = [1, 1, 0, 0, 0]\n",
    "knn = KNeighborsClassifier(n_neighbors=5, metric=garbo_distance)\n",
    "knn.fit(X, y)\n",
    "print(knn.predict([[0, 0], [1, 1]]))  # Should print [0, 1]"
   ]
  },
  {
   "cell_type": "code",
   "execution_count": null,
   "id": "0d3e7ed8",
   "metadata": {},
   "outputs": [],
   "source": []
  }
 ],
 "metadata": {
  "kernelspec": {
   "display_name": ".venv",
   "language": "python",
   "name": "python3"
  },
  "language_info": {
   "codemirror_mode": {
    "name": "ipython",
    "version": 3
   },
   "file_extension": ".py",
   "mimetype": "text/x-python",
   "name": "python",
   "nbconvert_exporter": "python",
   "pygments_lexer": "ipython3",
   "version": "3.12.3"
  }
 },
 "nbformat": 4,
 "nbformat_minor": 5
}
