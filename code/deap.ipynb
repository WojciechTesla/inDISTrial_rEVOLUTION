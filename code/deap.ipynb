{
 "cells": [
  {
   "cell_type": "code",
   "execution_count": 1,
   "id": "b7391733",
   "metadata": {},
   "outputs": [],
   "source": [
    "from sklearn.utils import resample\n",
    "import operator\n",
    "import math\n",
    "import random\n",
    "import sys\n",
    "import numpy\n",
    "\n",
    "from functools import partial\n",
    "\n",
    "from deap import algorithms\n",
    "from deap import base\n",
    "from deap import creator\n",
    "from deap import tools\n",
    "from deap import gp\n",
    "\n",
    "from sklearn.metrics import silhouette_score\n",
    "\n",
    "from DataManagment import *\n",
    "# from Evaluators import *\n",
    "# from Metrics import *\n",
    "# from ResultsManagment import *\n",
    "# from Visualization import *\n",
    "# from Testing.testEvaluation import get_metric"
   ]
  },
  {
   "cell_type": "code",
   "execution_count": 2,
   "id": "ccd948d5",
   "metadata": {},
   "outputs": [],
   "source": [
    "#disable logging\n",
    "import logging\n",
    "logging.getLogger().setLevel(logging.WARNING)"
   ]
  },
  {
   "cell_type": "code",
   "execution_count": 3,
   "id": "26676781",
   "metadata": {},
   "outputs": [],
   "source": [
    "#HARD ASSUMPTIONS:\n",
    "#all features are positive"
   ]
  },
  {
   "cell_type": "code",
   "execution_count": 4,
   "id": "a318a5a3",
   "metadata": {},
   "outputs": [
    {
     "name": "stdout",
     "output_type": "stream",
     "text": [
      "Loading Iris dataset from: ../data/iris.csv\n"
     ]
    }
   ],
   "source": [
    "#Experiment parameters\n",
    "SEED = None \n",
    "FRACTION = 0.5\n",
    "\n",
    "DATASET_NAME = \"iris\"\n",
    "DATASET = DistDataLoader(\"../data\").load_dataset(DATASET_NAME)\n",
    "#generation method has to be finally a gp. class\n",
    "GENERATION_METHOD = gp.genHalfAndHalf\n",
    "GENERATION_PARAMETERS = {\"min_\" :1,\"max_\":2}\n",
    "#individual parameters\n",
    "MAX_DEPTH = 69 #HARD MAX FROM PYTHON:91\n",
    "MAX_DEPTH = 69 #HARD MAX FROM PYTHON:91\n",
    "#selection method\n",
    "SELECTION_METHOD = tools.selTournament\n",
    "SELECTION_PARAMETERS = {\"tournsize\":3}\n",
    "#crossover\n",
    "CROSSOVER_METHOD = gp.cxOnePoint\n",
    "CROSSOVER_PARAMETERS = {}\n",
    "#mutation individual\n",
    "MUTATION_METHOD = gp.genFull\n",
    "MUTATION_PARAMETERS = {\"min_\" :0,\"max_\":2}\n",
    "#muatation policy\n",
    "POLICY_MUTATION = gp.mutUniform\n",
    "#!there is POLICY_MUTATION_PARAMS defined later\n",
    "\n",
    "#GENERAL EVOLUTION\n",
    "POPULATION_SIZE = 300\n",
    "CROSSOVER_PROB = 0.5\n",
    "MUTATION_PROB = 0.1\n",
    "NUMBER_OF_GENERATIONS = 200\n",
    "\n"
   ]
  },
  {
   "cell_type": "code",
   "execution_count": 5,
   "id": "e31cc236",
   "metadata": {},
   "outputs": [
    {
     "name": "stdout",
     "output_type": "stream",
     "text": [
      "Loading Iris dataset from: ../data/iris.csv\n"
     ]
    }
   ],
   "source": [
    "#dataset loading\n",
    "loader = DistDataLoader(\"../data\")\n",
    "dataset_name = \"iris\"\n",
    "iris_dataset = loader.load_dataset(dataset_name)\n",
    "\n",
    "if iris_dataset is None:\n",
    "        print(f\"❌ Failed to load {dataset_name}\")"
   ]
  },
  {
   "cell_type": "code",
   "execution_count": 6,
   "id": "c809c6c2",
   "metadata": {},
   "outputs": [],
   "source": [
    "#protective primitives deffinition\n",
    "\n",
    "def protectedDiv(left, right):\n",
    "    try:\n",
    "        return left / right\n",
    "    except ZeroDivisionError:\n",
    "        return 1\n",
    "def protectedLog(x):\n",
    "    try:\n",
    "        return numpy.log(x) if x > 0 else 1\n",
    "    except Exception:\n",
    "        return 1\n",
    "    \n",
    "def protectedCos(x):\n",
    "    return numpy.clip(numpy.cos(x), -1, 1) + 2\n",
    "\n",
    "def protectedSin(x):\n",
    "    return numpy.clip(numpy.sin(x), -1, 1) + 2"
   ]
  },
  {
   "cell_type": "code",
   "execution_count": 7,
   "id": "26a30441",
   "metadata": {},
   "outputs": [],
   "source": [
    "n_features = len(DATASET.feature_names)\n",
    "pset = gp.PrimitiveSet(\"MAIN\", n_features * 2)\n",
    "\n",
    "all_names = []\n",
    "for name in DATASET.feature_names:\n",
    "    all_names.append(name + \"1\")\n",
    "for name in DATASET.feature_names:\n",
    "    all_names.append(name + \"2\")\n",
    "\n",
    "arg_map = {f\"ARG{i}\": name for i, name in enumerate(all_names)}\n",
    "\n",
    "pset.renameArguments(**arg_map)"
   ]
  },
  {
   "cell_type": "code",
   "execution_count": 8,
   "id": "2fd03c53",
   "metadata": {},
   "outputs": [],
   "source": [
    "#adding primitives\n",
    "pset.addPrimitive(protectedDiv, 2)\n",
    "pset.addPrimitive(protectedLog,1)\n",
    "pset.addPrimitive(protectedCos, 1)\n",
    "pset.addPrimitive(protectedSin, 1)\n",
    "\n",
    "pset.addPrimitive(operator.add, 2)\n",
    "pset.addPrimitive(operator.sub, 2)\n",
    "pset.addPrimitive(operator.mul, 2)"
   ]
  },
  {
   "cell_type": "code",
   "execution_count": 9,
   "id": "50ef4d03",
   "metadata": {},
   "outputs": [],
   "source": [
    "pset.addEphemeralConstant(\"rand13\", partial(random.randint, 1, 3))"
   ]
  },
  {
   "cell_type": "code",
   "execution_count": 10,
   "id": "d687945f",
   "metadata": {},
   "outputs": [],
   "source": [
    "creator.create(\"FitnessMax\", base.Fitness, weights=(1.0,))\n",
    "creator.create(\"Individual\", gp.PrimitiveTree, fitness=creator.FitnessMax)"
   ]
  },
  {
   "cell_type": "code",
   "execution_count": 11,
   "id": "d4349b66",
   "metadata": {},
   "outputs": [],
   "source": [
    "toolbox = base.Toolbox()\n",
    "#TODO check different generations\n",
    "toolbox.register(\"expr\", GENERATION_METHOD, pset=pset,**GENERATION_PARAMETERS)\n",
    "toolbox.register(\"individual\", tools.initIterate, creator.Individual, toolbox.expr)\n",
    "toolbox.register(\"population\", tools.initRepeat, list, toolbox.individual)\n",
    "toolbox.register(\"compile\", gp.compile, pset=pset)"
   ]
  },
  {
   "cell_type": "code",
   "execution_count": 12,
   "id": "9780b164",
   "metadata": {},
   "outputs": [],
   "source": [
    "#evalutaion function\n",
    "#remember about returning a tuple\n",
    "def silhouetteFitness(individual, dataset: Dataset = DATASET, fract: float = FRACTION, random_state: int = random.randint(0, 9999)):\n",
    "    try:\n",
    "        func = toolbox.compile(expr=individual)\n",
    "    except MemoryError:\n",
    "        print('''\n",
    "              --------------------------\n",
    "              THERE WAS A MEMORY ERROR!\n",
    "              --------------------------\n",
    "              ''')\n",
    "        print(sys.exc_info())\n",
    "        return -1\n",
    "\n",
    "    Xsample, ysample = resample(\n",
    "        dataset.X, dataset.y, \n",
    "        n_samples=int(len(dataset.X) * fract), \n",
    "        random_state=random_state\n",
    "    )\n",
    "\n",
    "    feature_names_1 = []\n",
    "    feature_names_2 = []\n",
    "\n",
    "    for name in dataset.feature_names:\n",
    "        feature_names_1.append(name + \"1\")\n",
    "        feature_names_2.append(name + \"2\")\n",
    "\n",
    "    # Define a metric function that takes two 1D arrays\n",
    "    def metric(u, v):\n",
    "        # Map feature names to values for func\n",
    "        args_u = {name: val for name, val in zip(feature_names_1, u)}\n",
    "        args_v = {name: val for name, val in zip(feature_names_2, v)}\n",
    "        args_x = {**args_u, **args_v}\n",
    "        return max(0,func(**args_x))\n",
    "\n",
    "    try: \n",
    "        result = silhouette_score(Xsample, ysample, metric=metric)\n",
    "    except ValueError:\n",
    "        print('''\n",
    "              *****************************\n",
    "              THERE WAS AN ERROR CALLING SILHOUETTE!\n",
    "              *****************************\n",
    "              ''')\n",
    "        return -1\n",
    "    return result,"
   ]
  },
  {
   "cell_type": "code",
   "execution_count": 13,
   "id": "2f7f4c13",
   "metadata": {},
   "outputs": [],
   "source": [
    "toolbox.register(\"evaluate\", silhouetteFitness)\n",
    "toolbox.register(\"select\", tools.selTournament, **SELECTION_PARAMETERS)\n",
    "toolbox.register(\"mate\", CROSSOVER_METHOD,**CROSSOVER_PARAMETERS)\n",
    "toolbox.register(\"expr_mut\", MUTATION_METHOD, **MUTATION_PARAMETERS)\n",
    "#TODO remember about this\n",
    "toolbox.register(\"expr_mut\", gp.genFull, min_=0, max_=2)\n",
    "toolbox.register(\"mutate\", gp.mutUniform, expr=toolbox.expr_mut, pset=pset)\n",
    "\n",
    "toolbox.decorate(\"mate\", gp.staticLimit(key=operator.attrgetter(\"height\"), max_value=MAX_DEPTH))\n",
    "toolbox.decorate(\"mutate\", gp.staticLimit(key=operator.attrgetter(\"height\"), max_value=MAX_DEPTH))"
   ]
  },
  {
   "cell_type": "code",
   "execution_count": 14,
   "id": "2f131463",
   "metadata": {},
   "outputs": [
    {
     "name": "stdout",
     "output_type": "stream",
     "text": [
      "   \t      \t                                 fitness                                 \t                      size                     \n",
      "   \t      \t-------------------------------------------------------------------------\t-----------------------------------------------\n",
      "gen\tnevals\tavg       \tgen\tmax     \tmin     \tnevals\tstd      \tavg    \tgen\tmax\tmin\tnevals\tstd    \n",
      "0  \t300   \t-0.0664703\t0  \t0.692018\t-0.29955\t300   \t0.0892395\t3.36333\t0  \t7  \t2  \t300   \t1.38732\n",
      "1  \t137   \t-0.0232903\t1  \t0.692018\t-0.324005\t137   \t0.0855288\t3.5    \t1  \t7  \t1  \t137   \t1.46856\n",
      "2  \t178   \t-0.0144593\t2  \t0.439923\t-0.311727\t178   \t0.102068 \t3.87   \t2  \t11 \t1  \t178   \t1.77006\n"
     ]
    },
    {
     "name": "stderr",
     "output_type": "stream",
     "text": [
      "/tmp/ipykernel_59147/2439926677.py:5: RuntimeWarning: divide by zero encountered in scalar divide\n",
      "  return left / right\n",
      "/home/guter/Masters_1/program_synthesis/inDISTrial_rEVOLUTION/.venv/lib/python3.11/site-packages/sklearn/metrics/cluster/_unsupervised.py:312: RuntimeWarning: invalid value encountered in subtract\n",
      "  sil_samples = inter_clust_dists - intra_clust_dists\n",
      "/tmp/ipykernel_59147/2439926677.py:5: RuntimeWarning: divide by zero encountered in scalar divide\n",
      "  return left / right\n",
      "/home/guter/Masters_1/program_synthesis/inDISTrial_rEVOLUTION/.venv/lib/python3.11/site-packages/sklearn/metrics/cluster/_unsupervised.py:312: RuntimeWarning: invalid value encountered in subtract\n",
      "  sil_samples = inter_clust_dists - intra_clust_dists\n"
     ]
    },
    {
     "name": "stdout",
     "output_type": "stream",
     "text": [
      "3  \t150   \t0.017543  \t3  \t0.52345 \t-0.426247\t150   \t0.116446 \t4.04667\t3  \t12 \t1  \t150   \t1.87559\n"
     ]
    },
    {
     "name": "stderr",
     "output_type": "stream",
     "text": [
      "/tmp/ipykernel_59147/2439926677.py:5: RuntimeWarning: divide by zero encountered in scalar divide\n",
      "  return left / right\n",
      "/home/guter/Masters_1/program_synthesis/inDISTrial_rEVOLUTION/.venv/lib/python3.11/site-packages/sklearn/metrics/cluster/_unsupervised.py:312: RuntimeWarning: invalid value encountered in subtract\n",
      "  sil_samples = inter_clust_dists - intra_clust_dists\n",
      "/tmp/ipykernel_59147/2439926677.py:5: RuntimeWarning: divide by zero encountered in scalar divide\n",
      "  return left / right\n"
     ]
    },
    {
     "name": "stdout",
     "output_type": "stream",
     "text": [
      "4  \t167   \t0.0390723 \t4  \t0.79041 \t-0.508769\t167   \t0.137269 \t4.08   \t4  \t11 \t1  \t167   \t1.98165\n"
     ]
    },
    {
     "name": "stderr",
     "output_type": "stream",
     "text": [
      "/tmp/ipykernel_59147/2439926677.py:5: RuntimeWarning: divide by zero encountered in scalar divide\n",
      "  return left / right\n",
      "/home/guter/Masters_1/program_synthesis/inDISTrial_rEVOLUTION/.venv/lib/python3.11/site-packages/sklearn/metrics/cluster/_unsupervised.py:312: RuntimeWarning: invalid value encountered in subtract\n",
      "  sil_samples = inter_clust_dists - intra_clust_dists\n",
      "/tmp/ipykernel_59147/2439926677.py:5: RuntimeWarning: divide by zero encountered in scalar divide\n",
      "  return left / right\n",
      "/tmp/ipykernel_59147/2439926677.py:5: RuntimeWarning: divide by zero encountered in scalar divide\n",
      "  return left / right\n",
      "/home/guter/Masters_1/program_synthesis/inDISTrial_rEVOLUTION/.venv/lib/python3.11/site-packages/sklearn/metrics/cluster/_unsupervised.py:312: RuntimeWarning: invalid value encountered in subtract\n",
      "  sil_samples = inter_clust_dists - intra_clust_dists\n"
     ]
    },
    {
     "name": "stdout",
     "output_type": "stream",
     "text": [
      "5  \t139   \t0.0678944 \t5  \t0.79041 \t-0.431882\t139   \t0.145828 \t4.14333\t5  \t12 \t1  \t139   \t2.04519\n"
     ]
    },
    {
     "name": "stderr",
     "output_type": "stream",
     "text": [
      "/tmp/ipykernel_59147/2439926677.py:5: RuntimeWarning: divide by zero encountered in scalar divide\n",
      "  return left / right\n",
      "/home/guter/Masters_1/program_synthesis/inDISTrial_rEVOLUTION/.venv/lib/python3.11/site-packages/sklearn/metrics/cluster/_unsupervised.py:312: RuntimeWarning: invalid value encountered in subtract\n",
      "  sil_samples = inter_clust_dists - intra_clust_dists\n",
      "/tmp/ipykernel_59147/2439926677.py:5: RuntimeWarning: divide by zero encountered in scalar divide\n",
      "  return left / right\n",
      "/tmp/ipykernel_59147/2439926677.py:5: RuntimeWarning: divide by zero encountered in scalar divide\n",
      "  return left / right\n",
      "/tmp/ipykernel_59147/2439926677.py:5: RuntimeWarning: divide by zero encountered in scalar divide\n",
      "  return left / right\n",
      "/tmp/ipykernel_59147/2439926677.py:5: RuntimeWarning: divide by zero encountered in scalar divide\n",
      "  return left / right\n"
     ]
    },
    {
     "name": "stdout",
     "output_type": "stream",
     "text": [
      "6  \t159   \t0.117578  \t6  \t0.79041 \t-0.560374\t159   \t0.197293 \t4.30667\t6  \t10 \t1  \t159   \t1.8813 \n"
     ]
    },
    {
     "name": "stderr",
     "output_type": "stream",
     "text": [
      "/tmp/ipykernel_59147/2439926677.py:5: RuntimeWarning: divide by zero encountered in scalar divide\n",
      "  return left / right\n",
      "/tmp/ipykernel_59147/2439926677.py:5: RuntimeWarning: divide by zero encountered in scalar divide\n",
      "  return left / right\n",
      "/tmp/ipykernel_59147/2439926677.py:5: RuntimeWarning: divide by zero encountered in scalar divide\n",
      "  return left / right\n",
      "/tmp/ipykernel_59147/2439926677.py:5: RuntimeWarning: divide by zero encountered in scalar divide\n",
      "  return left / right\n",
      "/tmp/ipykernel_59147/2439926677.py:5: RuntimeWarning: divide by zero encountered in scalar divide\n",
      "  return left / right\n",
      "/tmp/ipykernel_59147/2439926677.py:5: RuntimeWarning: divide by zero encountered in scalar divide\n",
      "  return left / right\n",
      "/tmp/ipykernel_59147/2439926677.py:5: RuntimeWarning: divide by zero encountered in scalar divide\n",
      "  return left / right\n",
      "/tmp/ipykernel_59147/2439926677.py:5: RuntimeWarning: divide by zero encountered in scalar divide\n",
      "  return left / right\n"
     ]
    },
    {
     "name": "stdout",
     "output_type": "stream",
     "text": [
      "7  \t139   \t0.184065  \t7  \t0.79041 \t-0.528565\t139   \t0.252291 \t4.78   \t7  \t12 \t1  \t139   \t2.05871\n"
     ]
    },
    {
     "name": "stderr",
     "output_type": "stream",
     "text": [
      "/tmp/ipykernel_59147/2439926677.py:5: RuntimeWarning: divide by zero encountered in scalar divide\n",
      "  return left / right\n",
      "/tmp/ipykernel_59147/2439926677.py:5: RuntimeWarning: divide by zero encountered in scalar divide\n",
      "  return left / right\n",
      "/tmp/ipykernel_59147/2439926677.py:5: RuntimeWarning: divide by zero encountered in scalar divide\n",
      "  return left / right\n",
      "/tmp/ipykernel_59147/2439926677.py:5: RuntimeWarning: divide by zero encountered in scalar divide\n",
      "  return left / right\n",
      "/tmp/ipykernel_59147/2439926677.py:5: RuntimeWarning: divide by zero encountered in scalar divide\n",
      "  return left / right\n",
      "/tmp/ipykernel_59147/2439926677.py:5: RuntimeWarning: divide by zero encountered in scalar divide\n",
      "  return left / right\n"
     ]
    },
    {
     "name": "stdout",
     "output_type": "stream",
     "text": [
      "8  \t173   \t0.211195  \t8  \t0.888934\t-0.413146\t173   \t0.280182 \t4.91333\t8  \t13 \t1  \t173   \t2.14456\n"
     ]
    },
    {
     "name": "stderr",
     "output_type": "stream",
     "text": [
      "/tmp/ipykernel_59147/2439926677.py:5: RuntimeWarning: divide by zero encountered in scalar divide\n",
      "  return left / right\n",
      "/tmp/ipykernel_59147/2439926677.py:5: RuntimeWarning: divide by zero encountered in scalar divide\n",
      "  return left / right\n",
      "/tmp/ipykernel_59147/2439926677.py:5: RuntimeWarning: divide by zero encountered in scalar divide\n",
      "  return left / right\n",
      "/tmp/ipykernel_59147/2439926677.py:5: RuntimeWarning: divide by zero encountered in scalar divide\n",
      "  return left / right\n",
      "/tmp/ipykernel_59147/2439926677.py:5: RuntimeWarning: divide by zero encountered in scalar divide\n",
      "  return left / right\n",
      "/home/guter/Masters_1/program_synthesis/inDISTrial_rEVOLUTION/.venv/lib/python3.11/site-packages/sklearn/metrics/cluster/_unsupervised.py:312: RuntimeWarning: invalid value encountered in subtract\n",
      "  sil_samples = inter_clust_dists - intra_clust_dists\n",
      "/tmp/ipykernel_59147/2439926677.py:5: RuntimeWarning: divide by zero encountered in scalar divide\n",
      "  return left / right\n",
      "/tmp/ipykernel_59147/2439926677.py:5: RuntimeWarning: divide by zero encountered in scalar divide\n",
      "  return left / right\n",
      "/tmp/ipykernel_59147/2439926677.py:5: RuntimeWarning: divide by zero encountered in scalar divide\n",
      "  return left / right\n",
      "/home/guter/Masters_1/program_synthesis/inDISTrial_rEVOLUTION/.venv/lib/python3.11/site-packages/sklearn/metrics/cluster/_unsupervised.py:312: RuntimeWarning: invalid value encountered in subtract\n",
      "  sil_samples = inter_clust_dists - intra_clust_dists\n",
      "/tmp/ipykernel_59147/2439926677.py:5: RuntimeWarning: divide by zero encountered in scalar divide\n",
      "  return left / right\n"
     ]
    },
    {
     "name": "stdout",
     "output_type": "stream",
     "text": [
      "9  \t165   \t0.264699  \t9  \t0.888934\t-0.587617\t165   \t0.329732 \t5.04   \t9  \t13 \t1  \t165   \t2.12251\n"
     ]
    },
    {
     "name": "stderr",
     "output_type": "stream",
     "text": [
      "/tmp/ipykernel_59147/2439926677.py:5: RuntimeWarning: divide by zero encountered in scalar divide\n",
      "  return left / right\n",
      "/tmp/ipykernel_59147/2439926677.py:5: RuntimeWarning: divide by zero encountered in scalar divide\n",
      "  return left / right\n",
      "/tmp/ipykernel_59147/2439926677.py:5: RuntimeWarning: divide by zero encountered in scalar divide\n",
      "  return left / right\n",
      "/tmp/ipykernel_59147/2439926677.py:5: RuntimeWarning: divide by zero encountered in scalar divide\n",
      "  return left / right\n"
     ]
    },
    {
     "name": "stdout",
     "output_type": "stream",
     "text": [
      "10 \t154   \t0.368169  \t10 \t0.907866\t-0.587617\t154   \t0.346404 \t5.11333\t10 \t17 \t1  \t154   \t2.03482\n"
     ]
    },
    {
     "name": "stderr",
     "output_type": "stream",
     "text": [
      "/tmp/ipykernel_59147/2439926677.py:5: RuntimeWarning: divide by zero encountered in scalar divide\n",
      "  return left / right\n",
      "/tmp/ipykernel_59147/2439926677.py:5: RuntimeWarning: divide by zero encountered in scalar divide\n",
      "  return left / right\n",
      "/tmp/ipykernel_59147/2439926677.py:5: RuntimeWarning: divide by zero encountered in scalar divide\n",
      "  return left / right\n",
      "/tmp/ipykernel_59147/2439926677.py:5: RuntimeWarning: divide by zero encountered in scalar divide\n",
      "  return left / right\n",
      "<string>:1: RuntimeWarning: invalid value encountered in scalar multiply\n"
     ]
    },
    {
     "name": "stdout",
     "output_type": "stream",
     "text": [
      "11 \t177   \t0.392579  \t11 \t0.907866\t-0.96    \t177   \t0.374604 \t5.62333\t11 \t17 \t1  \t177   \t2.20789\n"
     ]
    },
    {
     "name": "stderr",
     "output_type": "stream",
     "text": [
      "/tmp/ipykernel_59147/2439926677.py:5: RuntimeWarning: divide by zero encountered in scalar divide\n",
      "  return left / right\n",
      "<string>:1: RuntimeWarning: invalid value encountered in scalar multiply\n",
      "/tmp/ipykernel_59147/2439926677.py:5: RuntimeWarning: divide by zero encountered in scalar divide\n",
      "  return left / right\n",
      "/tmp/ipykernel_59147/2439926677.py:5: RuntimeWarning: divide by zero encountered in scalar divide\n",
      "  return left / right\n",
      "<string>:1: RuntimeWarning: invalid value encountered in scalar multiply\n"
     ]
    },
    {
     "name": "stdout",
     "output_type": "stream",
     "text": [
      "12 \t169   \t0.459602  \t12 \t0.92538 \t-0.973333\t169   \t0.368494 \t6.18667\t12 \t17 \t1  \t169   \t2.34773\n"
     ]
    },
    {
     "name": "stderr",
     "output_type": "stream",
     "text": [
      "/tmp/ipykernel_59147/2439926677.py:5: RuntimeWarning: divide by zero encountered in scalar divide\n",
      "  return left / right\n",
      "<string>:1: RuntimeWarning: invalid value encountered in scalar multiply\n",
      "/tmp/ipykernel_59147/2439926677.py:5: RuntimeWarning: divide by zero encountered in scalar divide\n",
      "  return left / right\n",
      "/tmp/ipykernel_59147/2439926677.py:5: RuntimeWarning: divide by zero encountered in scalar divide\n",
      "  return left / right\n",
      "/tmp/ipykernel_59147/2439926677.py:5: RuntimeWarning: divide by zero encountered in scalar divide\n",
      "  return left / right\n",
      "<string>:1: RuntimeWarning: invalid value encountered in scalar multiply\n",
      "/tmp/ipykernel_59147/2439926677.py:5: RuntimeWarning: divide by zero encountered in scalar divide\n",
      "  return left / right\n"
     ]
    },
    {
     "name": "stdout",
     "output_type": "stream",
     "text": [
      "13 \t158   \t0.52603   \t13 \t0.92538 \t-0.973333\t158   \t0.380087 \t6.87   \t13 \t19 \t1  \t158   \t2.30357\n"
     ]
    },
    {
     "name": "stderr",
     "output_type": "stream",
     "text": [
      "/tmp/ipykernel_59147/2439926677.py:5: RuntimeWarning: divide by zero encountered in scalar divide\n",
      "  return left / right\n",
      "/tmp/ipykernel_59147/2439926677.py:5: RuntimeWarning: divide by zero encountered in scalar divide\n",
      "  return left / right\n",
      "<string>:1: RuntimeWarning: invalid value encountered in scalar multiply\n",
      "/tmp/ipykernel_59147/2439926677.py:5: RuntimeWarning: divide by zero encountered in scalar divide\n",
      "  return left / right\n",
      "/tmp/ipykernel_59147/2439926677.py:5: RuntimeWarning: divide by zero encountered in scalar divide\n",
      "  return left / right\n",
      "/tmp/ipykernel_59147/2439926677.py:5: RuntimeWarning: divide by zero encountered in scalar divide\n",
      "  return left / right\n",
      "<string>:1: RuntimeWarning: invalid value encountered in scalar multiply\n"
     ]
    },
    {
     "name": "stdout",
     "output_type": "stream",
     "text": [
      "14 \t167   \t0.571259  \t14 \t0.92538 \t-0.67904 \t167   \t0.361359 \t7.17   \t14 \t15 \t1  \t167   \t2.20932\n"
     ]
    },
    {
     "name": "stderr",
     "output_type": "stream",
     "text": [
      "/tmp/ipykernel_59147/2439926677.py:5: RuntimeWarning: divide by zero encountered in scalar divide\n",
      "  return left / right\n",
      "<string>:1: RuntimeWarning: invalid value encountered in scalar multiply\n",
      "/tmp/ipykernel_59147/2439926677.py:5: RuntimeWarning: divide by zero encountered in scalar divide\n",
      "  return left / right\n",
      "/tmp/ipykernel_59147/2439926677.py:5: RuntimeWarning: divide by zero encountered in scalar divide\n",
      "  return left / right\n",
      "/tmp/ipykernel_59147/2439926677.py:5: RuntimeWarning: divide by zero encountered in scalar divide\n",
      "  return left / right\n",
      "/tmp/ipykernel_59147/2439926677.py:5: RuntimeWarning: divide by zero encountered in scalar divide\n",
      "  return left / right\n",
      "<string>:1: RuntimeWarning: invalid value encountered in scalar multiply\n"
     ]
    },
    {
     "name": "stdout",
     "output_type": "stream",
     "text": [
      "15 \t168   \t0.626611  \t15 \t0.926214\t-0.973333\t168   \t0.363399 \t7.85333\t15 \t15 \t2  \t168   \t2.2402 \n"
     ]
    },
    {
     "name": "stderr",
     "output_type": "stream",
     "text": [
      "/tmp/ipykernel_59147/2439926677.py:5: RuntimeWarning: divide by zero encountered in scalar divide\n",
      "  return left / right\n",
      "/tmp/ipykernel_59147/2439926677.py:5: RuntimeWarning: invalid value encountered in scalar divide\n",
      "  return left / right\n",
      "/tmp/ipykernel_59147/2439926677.py:5: RuntimeWarning: divide by zero encountered in scalar divide\n",
      "  return left / right\n",
      "/tmp/ipykernel_59147/2439926677.py:5: RuntimeWarning: divide by zero encountered in scalar divide\n",
      "  return left / right\n",
      "/tmp/ipykernel_59147/2439926677.py:5: RuntimeWarning: divide by zero encountered in scalar divide\n",
      "  return left / right\n"
     ]
    },
    {
     "name": "stdout",
     "output_type": "stream",
     "text": [
      "16 \t153   \t0.662451  \t16 \t0.92538 \t-0.859422\t153   \t0.342788 \t8.15   \t16 \t18 \t2  \t153   \t2.38205\n"
     ]
    },
    {
     "name": "stderr",
     "output_type": "stream",
     "text": [
      "/tmp/ipykernel_59147/2439926677.py:5: RuntimeWarning: divide by zero encountered in scalar divide\n",
      "  return left / right\n",
      "/tmp/ipykernel_59147/2439926677.py:5: RuntimeWarning: invalid value encountered in scalar divide\n",
      "  return left / right\n",
      "/tmp/ipykernel_59147/2439926677.py:5: RuntimeWarning: invalid value encountered in scalar divide\n",
      "  return left / right\n",
      "/tmp/ipykernel_59147/2439926677.py:5: RuntimeWarning: divide by zero encountered in scalar divide\n",
      "  return left / right\n",
      "<string>:1: RuntimeWarning: invalid value encountered in scalar multiply\n",
      "/tmp/ipykernel_59147/2439926677.py:5: RuntimeWarning: divide by zero encountered in scalar divide\n",
      "  return left / right\n"
     ]
    },
    {
     "name": "stdout",
     "output_type": "stream",
     "text": [
      "17 \t161   \t0.655333  \t17 \t0.92538 \t-0.96    \t161   \t0.360656 \t8.3    \t17 \t19 \t1  \t161   \t2.34023\n"
     ]
    },
    {
     "name": "stderr",
     "output_type": "stream",
     "text": [
      "/tmp/ipykernel_59147/2439926677.py:5: RuntimeWarning: divide by zero encountered in scalar divide\n",
      "  return left / right\n",
      "<string>:1: RuntimeWarning: invalid value encountered in scalar multiply\n",
      "/tmp/ipykernel_59147/2439926677.py:5: RuntimeWarning: divide by zero encountered in scalar divide\n",
      "  return left / right\n",
      "/tmp/ipykernel_59147/2439926677.py:5: RuntimeWarning: divide by zero encountered in scalar divide\n",
      "  return left / right\n",
      "/tmp/ipykernel_59147/2439926677.py:5: RuntimeWarning: divide by zero encountered in scalar divide\n",
      "  return left / right\n",
      "<string>:1: RuntimeWarning: invalid value encountered in scalar multiply\n",
      "/tmp/ipykernel_59147/2439926677.py:5: RuntimeWarning: divide by zero encountered in scalar divide\n",
      "  return left / right\n",
      "/tmp/ipykernel_59147/2439926677.py:5: RuntimeWarning: invalid value encountered in scalar divide\n",
      "  return left / right\n"
     ]
    },
    {
     "name": "stdout",
     "output_type": "stream",
     "text": [
      "18 \t168   \t0.645969  \t18 \t0.92538 \t-0.96    \t168   \t0.384235 \t8.35667\t18 \t17 \t1  \t168   \t2.25006\n"
     ]
    },
    {
     "name": "stderr",
     "output_type": "stream",
     "text": [
      "/tmp/ipykernel_59147/2439926677.py:5: RuntimeWarning: divide by zero encountered in scalar divide\n",
      "  return left / right\n",
      "/tmp/ipykernel_59147/2439926677.py:5: RuntimeWarning: divide by zero encountered in scalar divide\n",
      "  return left / right\n"
     ]
    },
    {
     "name": "stdout",
     "output_type": "stream",
     "text": [
      "19 \t140   \t0.685821  \t19 \t0.92538 \t-0.96    \t140   \t0.379616 \t8.28   \t19 \t16 \t3  \t140   \t2.29236\n"
     ]
    },
    {
     "name": "stderr",
     "output_type": "stream",
     "text": [
      "/tmp/ipykernel_59147/2439926677.py:5: RuntimeWarning: divide by zero encountered in scalar divide\n",
      "  return left / right\n",
      "/tmp/ipykernel_59147/2439926677.py:5: RuntimeWarning: divide by zero encountered in scalar divide\n",
      "  return left / right\n",
      "/tmp/ipykernel_59147/2439926677.py:5: RuntimeWarning: divide by zero encountered in scalar divide\n",
      "  return left / right\n",
      "/tmp/ipykernel_59147/2439926677.py:5: RuntimeWarning: divide by zero encountered in scalar divide\n",
      "  return left / right\n",
      "/tmp/ipykernel_59147/2439926677.py:5: RuntimeWarning: divide by zero encountered in scalar divide\n",
      "  return left / right\n"
     ]
    },
    {
     "name": "stdout",
     "output_type": "stream",
     "text": [
      "20 \t147   \t0.681264  \t20 \t0.92538 \t-0.933333\t147   \t0.360702 \t8.26667\t20 \t20 \t1  \t147   \t2.4931 \n"
     ]
    }
   ],
   "source": [
    "#MAIN\n",
    "pop = toolbox.population(n=POPULATION_SIZE)\n",
    "hof = tools.HallOfFame(1)\n",
    "\n",
    "stats_fit = tools.Statistics(lambda ind: ind.fitness.values)\n",
    "stats_size = tools.Statistics(len)\n",
    "mstats = tools.MultiStatistics(fitness=stats_fit, size=stats_size)\n",
    "mstats.register(\"avg\", numpy.mean)\n",
    "mstats.register(\"std\", numpy.std)\n",
    "mstats.register(\"min\", numpy.min)\n",
    "mstats.register(\"max\", numpy.max)\n",
    "\n",
    "# pop, log = algorithms.eaSimple(pop, toolbox, CROSSOVER_PROB, MUTATION_PROB, NUMBER_OF_GENERATIONS, stats=mstats,\n",
    "#                                    halloffame=hof, verbose=True)\n",
    "pop, log = algorithms.eaSimple(pop, toolbox, CROSSOVER_PROB, MUTATION_PROB, 20, stats=mstats,\n",
    "                                   halloffame=hof, verbose=True)"
   ]
  },
  {
   "cell_type": "code",
   "execution_count": 15,
   "id": "fdb424ba",
   "metadata": {},
   "outputs": [
    {
     "name": "stdout",
     "output_type": "stream",
     "text": [
      "mul(sub(protectedDiv(petal_width2, petal_width1), petal_width1), petal_width2)\n",
      "mul(sub(mul(protectedCos(1), protectedDiv(petal_length2, sepal_length1)), petal_width1), sub(petal_width2, petal_width1))\n"
     ]
    }
   ],
   "source": [
    "print(pop[-10])\n",
    "print(hof.items[0])"
   ]
  },
  {
   "cell_type": "markdown",
   "id": "a1242e04",
   "metadata": {},
   "source": [
    "#### results"
   ]
  },
  {
   "cell_type": "code",
   "execution_count": 16,
   "id": "1f2ca03d",
   "metadata": {},
   "outputs": [],
   "source": [
    "from Classifiers import *"
   ]
  },
  {
   "cell_type": "code",
   "execution_count": 17,
   "id": "e209f56e",
   "metadata": {},
   "outputs": [],
   "source": [
    "# metric = EuclideanMetric()\n",
    "# classifier = KNNWrapper(metric)\n",
    "# evaluator = Evaluator()\n",
    "\n",
    "# evaluator.crossValidateClassifier(iris_dataset, classifier)"
   ]
  }
 ],
 "metadata": {
  "kernelspec": {
   "display_name": ".venv",
   "language": "python",
   "name": "python3"
  },
  "language_info": {
   "codemirror_mode": {
    "name": "ipython",
    "version": 3
   },
   "file_extension": ".py",
   "mimetype": "text/x-python",
   "name": "python",
   "nbconvert_exporter": "python",
   "pygments_lexer": "ipython3",
   "version": "3.11.12"
  }
 },
 "nbformat": 4,
 "nbformat_minor": 5
}
